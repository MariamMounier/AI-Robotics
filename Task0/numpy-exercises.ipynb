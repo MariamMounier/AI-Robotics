{
 "cells": [
  {
   "cell_type": "markdown",
   "metadata": {},
   "source": [
    "# NumPy Practice\n",
    "\n",
    "This notebook offers a set of exercises for different tasks with NumPy.\n",
    "\n",
    "It should be noted there may be more than one different way to answer a question or complete an exercise.\n",
    "\n",
    "Different tasks will be detailed by comments or text.\n",
    "\n",
    "For further reference and resources, it's advised to check out the [NumPy documentation](https://numpy.org/devdocs/user/index.html).\n",
    "\n",
    "And if you get stuck, try searching for a question in the following format: \"how to do XYZ with numpy\", where XYZ is the function you want to leverage from NumPy."
   ]
  },
  {
   "cell_type": "code",
   "execution_count": 9,
   "metadata": {},
   "outputs": [],
   "source": [
    "# Import NumPy as its abbreviation 'np'\n",
    "import numpy as np"
   ]
  },
  {
   "cell_type": "code",
   "execution_count": 10,
   "metadata": {},
   "outputs": [
    {
     "name": "stdout",
     "output_type": "stream",
     "text": [
      "[1 2 3 4 5]\n",
      "[[1 2 3]\n",
      " [4 5 6]\n",
      " [7 8 9]]\n",
      "[[[ 1  2  3]\n",
      "  [ 4  5  6]]\n",
      "\n",
      " [[ 7  8  9]\n",
      "  [10 11 12]]\n",
      "\n",
      " [[13 14 15]\n",
      "  [16 17 18]]]\n"
     ]
    }
   ],
   "source": [
    "# Create a 1-dimensional NumPy array using np.array()\n",
    "\n",
    "arr1d = np.array([1, 2, 3, 4, 5])\n",
    "print(arr1d)\n",
    "\n",
    "# Create a 2-dimensional NumPy array using np.array()\n",
    "\n",
    "arr2d = np.array([[1, 2, 3], [4, 5, 6], [7, 8, 9]])\n",
    "print(arr2d)\n",
    "\n",
    "# Create a 3-dimensional Numpy array using np.array()\n",
    "\n",
    "# Create a 3-dimensional NumPy array (a 3D array)\n",
    "arr3d = np.array([[[1, 2, 3], [4, 5, 6]], [[7, 8, 9], [10, 11, 12]], [[13, 14, 15], [16, 17, 18]]])\n",
    "print(arr3d)\n"
   ]
  },
  {
   "cell_type": "markdown",
   "metadata": {},
   "source": [
    "Now we've you've created 3 different arrays, let's find details about them.\n",
    "\n",
    "Find the shape, number of dimensions, data type, size and type of each array."
   ]
  },
  {
   "cell_type": "code",
   "execution_count": 11,
   "metadata": {},
   "outputs": [
    {
     "name": "stdout",
     "output_type": "stream",
     "text": [
      "Shape: (5,)\n",
      "Number of Dimensions: 1\n",
      "Data Type: int32\n",
      "Size: 5\n",
      "Type of Array: <class 'numpy.ndarray'>\n"
     ]
    }
   ],
   "source": [
    "# Attributes of 1-dimensional array (shape, \n",
    "# number of dimensions, data type, size and type)\n",
    "shape = arr1d.shape\n",
    "num_dimensions = arr1d.ndim\n",
    "data_type = arr1d.dtype\n",
    "array_size = arr1d.size\n",
    "array_type = type(arr1d)\n",
    "\n",
    "print(\"Shape:\", shape)              \n",
    "print(\"Number of Dimensions:\", num_dimensions)  \n",
    "print(\"Data Type:\", data_type)     \n",
    "print(\"Size:\", array_size)         \n",
    "print(\"Type of Array:\", array_type) "
   ]
  },
  {
   "cell_type": "code",
   "execution_count": 12,
   "metadata": {},
   "outputs": [
    {
     "name": "stdout",
     "output_type": "stream",
     "text": [
      "Shape: (3, 3)\n",
      "Number of Dimensions: 2\n",
      "Data Type: int32\n",
      "Size: 9\n",
      "Type of Array: <class 'numpy.ndarray'>\n"
     ]
    }
   ],
   "source": [
    "# Attributes of 2-dimensional array\n",
    "shape = arr2d.shape\n",
    "num_dimensions = arr2d.ndim\n",
    "data_type = arr2d.dtype\n",
    "array_size = arr2d.size\n",
    "array_type = type(arr2d)\n",
    "\n",
    "print(\"Shape:\", shape)              \n",
    "print(\"Number of Dimensions:\", num_dimensions)  \n",
    "print(\"Data Type:\", data_type)     \n",
    "print(\"Size:\", array_size)         \n",
    "print(\"Type of Array:\", array_type) "
   ]
  },
  {
   "cell_type": "code",
   "execution_count": 13,
   "metadata": {},
   "outputs": [
    {
     "name": "stdout",
     "output_type": "stream",
     "text": [
      "Shape: (3, 2, 3)\n",
      "Number of Dimensions: 3\n",
      "Data Type: int32\n",
      "Size: 18\n",
      "Type of Array: <class 'numpy.ndarray'>\n"
     ]
    }
   ],
   "source": [
    "# Attributes of 3-dimensional array\n",
    "shape = arr3d.shape\n",
    "num_dimensions = arr3d.ndim\n",
    "data_type = arr3d.dtype\n",
    "array_size = arr3d.size\n",
    "array_type = type(arr3d)\n",
    "\n",
    "print(\"Shape:\", shape)              \n",
    "print(\"Number of Dimensions:\", num_dimensions)  \n",
    "print(\"Data Type:\", data_type)     \n",
    "print(\"Size:\", array_size)         \n",
    "print(\"Type of Array:\", array_type) "
   ]
  },
  {
   "cell_type": "code",
   "execution_count": 59,
   "metadata": {},
   "outputs": [
    {
     "name": "stdout",
     "output_type": "stream",
     "text": [
      "   Column_arr1\n",
      "0            1\n",
      "1            2\n",
      "2            3\n",
      "3            4\n",
      "4            5\n"
     ]
    }
   ],
   "source": [
    "# Import pandas and create a DataFrame out of one\n",
    "# of the arrays you've created\n",
    "import pandas as pd\n",
    "\n",
    "# Create a DataFrame from the 1D array\n",
    "df = pd.DataFrame(arr1d, columns=['Column_arr1'])\n",
    "\n",
    "# Display the DataFrame\n",
    "print(df)\n"
   ]
  },
  {
   "cell_type": "code",
   "execution_count": 60,
   "metadata": {},
   "outputs": [
    {
     "name": "stdout",
     "output_type": "stream",
     "text": [
      "[[1. 1.]\n",
      " [1. 1.]\n",
      " [1. 1.]\n",
      " [1. 1.]\n",
      " [1. 1.]\n",
      " [1. 1.]\n",
      " [1. 1.]\n",
      " [1. 1.]\n",
      " [1. 1.]\n",
      " [1. 1.]]\n"
     ]
    }
   ],
   "source": [
    "# Create an array of shape (10, 2) with only ones\n",
    "\n",
    "ones_array_10_2 = np.ones((10, 2))\n",
    "\n",
    "# Print the resulting array\n",
    "print(ones_array_10_2)\n"
   ]
  },
  {
   "cell_type": "code",
   "execution_count": 62,
   "metadata": {},
   "outputs": [
    {
     "name": "stdout",
     "output_type": "stream",
     "text": [
      "[[[0. 0. 0.]\n",
      "  [0. 0. 0.]]\n",
      "\n",
      " [[0. 0. 0.]\n",
      "  [0. 0. 0.]]\n",
      "\n",
      " [[0. 0. 0.]\n",
      "  [0. 0. 0.]]\n",
      "\n",
      " [[0. 0. 0.]\n",
      "  [0. 0. 0.]]\n",
      "\n",
      " [[0. 0. 0.]\n",
      "  [0. 0. 0.]]\n",
      "\n",
      " [[0. 0. 0.]\n",
      "  [0. 0. 0.]]\n",
      "\n",
      " [[0. 0. 0.]\n",
      "  [0. 0. 0.]]]\n"
     ]
    }
   ],
   "source": [
    "# Create an array of shape (7, 2, 3) of only zeros\n",
    "zeros_array =  np.zeros((7,2,3))\n",
    "print(zeros_array)"
   ]
  },
  {
   "cell_type": "code",
   "execution_count": 63,
   "metadata": {},
   "outputs": [
    {
     "name": "stdout",
     "output_type": "stream",
     "text": [
      "[ 0  3  6  9 12 15 18 21 24 27 30 33 36 39 42 45 48 51 54 57 60 63 66 69\n",
      " 72 75 78 81 84 87 90 93 96 99]\n"
     ]
    }
   ],
   "source": [
    "# Create an array within a range of 0 and 100 with step 3\n",
    "array_with_step = np.arange(0, 100, 3)\n",
    "\n",
    "print(array_with_step)"
   ]
  },
  {
   "cell_type": "code",
   "execution_count": 65,
   "metadata": {},
   "outputs": [
    {
     "name": "stdout",
     "output_type": "stream",
     "text": [
      "[[5.90240356 5.0783094 ]\n",
      " [1.2957757  2.85985921]\n",
      " [0.66351791 0.21243589]\n",
      " [6.44784317 0.44967523]\n",
      " [5.30144325 3.12917733]\n",
      " [4.17636971 9.64522437]\n",
      " [7.70817882 8.12429671]]\n",
      "[[5 6]\n",
      " [1 6]\n",
      " [1 7]\n",
      " [9 4]\n",
      " [6 9]\n",
      " [4 5]\n",
      " [8 7]]\n"
     ]
    }
   ],
   "source": [
    "# Create a random array with numbers between 0 and 10 of size (7, 2)\n",
    "random_array_7_2 = np.random.rand(7, 2) * 10\n",
    "\n",
    "print(random_array_7_2)\n",
    "\n",
    "random_integer_array = np.random.randint(0, 11, size=(7, 2))\n",
    "\n",
    "print(random_integer_array)"
   ]
  },
  {
   "cell_type": "code",
   "execution_count": 66,
   "metadata": {},
   "outputs": [
    {
     "name": "stdout",
     "output_type": "stream",
     "text": [
      "[[0.51669921 0.18060106 0.77870542 0.76382721 0.17442971]\n",
      " [0.32870271 0.99573177 0.26825257 0.80210928 0.30882428]\n",
      " [0.20787102 0.23982912 0.89817582 0.84237695 0.94516717]]\n"
     ]
    }
   ],
   "source": [
    "# Create a random array of floats between 0 & 1 of shape (3, 5)\n",
    "random_float_array = np.random.rand(3, 5)\n",
    "\n",
    "print(random_float_array)"
   ]
  },
  {
   "cell_type": "code",
   "execution_count": 71,
   "metadata": {},
   "outputs": [
    {
     "name": "stdout",
     "output_type": "stream",
     "text": [
      "[[ 6  3 10  7  4  6]\n",
      " [ 9  2  6 10 10  7]\n",
      " [ 4  3  7  7  2  5]\n",
      " [ 4  1  7  5  1  4]]\n"
     ]
    }
   ],
   "source": [
    "# Set the random seed to 42\n",
    "\n",
    "np.random.seed(42)\n",
    "\n",
    "# Create a random array of numbers between 0 & 10 of size (4, 6)\n",
    "\n",
    "random_array_4_6 = np.random.randint(0, 11, size=(4, 6))\n",
    "\n",
    "print(random_array_4_6)\n"
   ]
  },
  {
   "cell_type": "markdown",
   "metadata": {},
   "source": [
    "Run the cell above again, what happens?\n",
    "\n",
    "Are the numbers in the array different or the same? Why do think this is?\n",
    "\n",
    "\n",
    "\n",
    "A:the same random numbers in the array. The reason for this is that setting the random seed initializes the pseudorandom number generator (PRNG) in a way that it produces the same sequence of random numbers every time you use that seed."
   ]
  },
  {
   "cell_type": "code",
   "execution_count": 74,
   "metadata": {},
   "outputs": [
    {
     "name": "stdout",
     "output_type": "stream",
     "text": [
      "Random Array:\n",
      "[[10  2 10  4  8  7  9]\n",
      " [ 8  5  2  5  8 10  9]\n",
      " [ 9  1  9  7  9  8  1]]\n",
      "Unique Numbers:\n",
      "[ 1  2  4  5  7  8  9 10]\n"
     ]
    }
   ],
   "source": [
    "# Create an array of random numbers between 1 & 10 of size (3, 7)\n",
    "# and save it to a variable\n",
    "random_array_3_7 = np.random.randint(1, 11, size=(3, 7))\n",
    "\n",
    "# Print the random array\n",
    "print(\"Random Array:\")\n",
    "print(random_array_3_7)\n",
    "\n",
    "# Find the unique numbers in the array you just created\n",
    "unique_numbers = np.unique(random_array_3_7)\n",
    "\n",
    "# Print the unique numbers\n",
    "print(\"Unique Numbers:\")\n",
    "print(unique_numbers)\n",
    "\n"
   ]
  },
  {
   "cell_type": "code",
   "execution_count": 77,
   "metadata": {},
   "outputs": [
    {
     "name": "stdout",
     "output_type": "stream",
     "text": [
      " 0'th index: [10  2 10  4  8  7  9]\n",
      "Element at 0'th index: 1\n"
     ]
    }
   ],
   "source": [
    "# Find the 0'th index of the latest array you created\n",
    "zeros_index = random_array_3_7[0]\n",
    "element_at_index_0 = unique_numbers[0]\n",
    "print(\" 0'th index:\", zeros_index)\n",
    "print(\"Element at 0'th index:\", element_at_index_0)"
   ]
  },
  {
   "cell_type": "code",
   "execution_count": 79,
   "metadata": {},
   "outputs": [
    {
     "name": "stdout",
     "output_type": "stream",
     "text": [
      "First two rows of the array\n",
      "[[10  2 10  4  8  7  9]\n",
      " [ 8  5  2  5  8 10  9]]\n"
     ]
    }
   ],
   "source": [
    "# Get the first 2 rows of latest array you created\n",
    "first_two_rows = random_array_3_7[:2]\n",
    "\n",
    "# Print the result\n",
    "print(\"First two rows of the array\")\n",
    "print(first_two_rows)"
   ]
  },
  {
   "cell_type": "code",
   "execution_count": 81,
   "metadata": {},
   "outputs": [
    {
     "name": "stdout",
     "output_type": "stream",
     "text": [
      "First two values of the first two rows:\n",
      "[[10  2]\n",
      " [ 8  5]]\n"
     ]
    }
   ],
   "source": [
    "# Get the first 2 values of the first 2 rows of the latest array\n",
    "first_two_rows_values = random_array_3_7[:2, :2]\n",
    "\n",
    "# Print the result\n",
    "print(\"First two values of the first two rows:\")\n",
    "print(first_two_rows_values)"
   ]
  },
  {
   "cell_type": "code",
   "execution_count": 82,
   "metadata": {},
   "outputs": [
    {
     "name": "stdout",
     "output_type": "stream",
     "text": [
      "Random Array:\n",
      "[[ 7  7 10  2  0]\n",
      " [ 7  2  2  0 10]\n",
      " [ 4  9  6  9  8]]\n",
      "Ones Array:\n",
      "[[1. 1. 1. 1. 1.]\n",
      " [1. 1. 1. 1. 1.]\n",
      " [1. 1. 1. 1. 1.]]\n"
     ]
    }
   ],
   "source": [
    "# Create a random array of numbers between 0 & 10 and an array of ones\n",
    "# both of size (3, 5), save them both to variables\n",
    "random_array_3_5= np.random.randint(0, 11, size=(3, 5))\n",
    "\n",
    "# Create an array of ones of the same size (3, 5)\n",
    "ones_array_3_5= np.ones((3, 5))\n",
    "\n",
    "print(\"Random Array:\")\n",
    "print(random_array_3_5)\n",
    "\n",
    "print(\"Ones Array:\")\n",
    "print(ones_array_3_5)\n"
   ]
  },
  {
   "cell_type": "code",
   "execution_count": 83,
   "metadata": {},
   "outputs": [
    {
     "name": "stdout",
     "output_type": "stream",
     "text": [
      "[[ 8.  8. 11.  3.  1.]\n",
      " [ 8.  3.  3.  1. 11.]\n",
      " [ 5. 10.  7. 10.  9.]]\n"
     ]
    }
   ],
   "source": [
    "# Add the two arrays together\n",
    "result_array = random_array_3_5 + ones_array_3_5\n",
    "print(result_array)"
   ]
  },
  {
   "cell_type": "code",
   "execution_count": 85,
   "metadata": {},
   "outputs": [
    {
     "name": "stdout",
     "output_type": "stream",
     "text": [
      "[[1. 1. 1.]\n",
      " [1. 1. 1.]\n",
      " [1. 1. 1.]\n",
      " [1. 1. 1.]\n",
      " [1. 1. 1.]]\n"
     ]
    }
   ],
   "source": [
    "# Create another array of ones of shape (5, 3)\n",
    "ones_array_5_3 = np.ones((5,3))\n",
    "print(ones_array_5_3)"
   ]
  },
  {
   "cell_type": "code",
   "execution_count": 86,
   "metadata": {},
   "outputs": [
    {
     "ename": "ValueError",
     "evalue": "operands could not be broadcast together with shapes (3,5) (5,3) ",
     "output_type": "error",
     "traceback": [
      "\u001b[1;31m---------------------------------------------------------------------------\u001b[0m",
      "\u001b[1;31mValueError\u001b[0m                                Traceback (most recent call last)",
      "\u001b[1;32m~\\AppData\\Local\\Temp\\ipykernel_15804\\2416211831.py\u001b[0m in \u001b[0;36m<module>\u001b[1;34m\u001b[0m\n\u001b[0;32m      1\u001b[0m \u001b[1;31m# Try add the array of ones and the other most recent array together\u001b[0m\u001b[1;33m\u001b[0m\u001b[1;33m\u001b[0m\u001b[1;33m\u001b[0m\u001b[0m\n\u001b[1;32m----> 2\u001b[1;33m \u001b[0mresult_array\u001b[0m  \u001b[1;33m=\u001b[0m \u001b[0mrandom_array_3_5\u001b[0m \u001b[1;33m+\u001b[0m \u001b[0mones_array_5_3\u001b[0m\u001b[1;33m\u001b[0m\u001b[1;33m\u001b[0m\u001b[0m\n\u001b[0m",
      "\u001b[1;31mValueError\u001b[0m: operands could not be broadcast together with shapes (3,5) (5,3) "
     ]
    }
   ],
   "source": [
    "# Try add the array of ones and the other most recent array together\n",
    "result_array  = random_array_3_5 + ones_array_5_3"
   ]
  },
  {
   "cell_type": "markdown",
   "metadata": {},
   "source": [
    "When you try the last cell, it produces an error. Why do think this is?\n",
    "\n",
    "How would you fix it?\n",
    "\n",
    "A: error becuase of shapes , fix it using reshape of array\n"
   ]
  },
  {
   "cell_type": "code",
   "execution_count": 87,
   "metadata": {},
   "outputs": [],
   "source": [
    "# Create another array of ones of shape (3, 5)\n",
    "ones_array_3_5= np.ones((3, 5))\n"
   ]
  },
  {
   "cell_type": "code",
   "execution_count": 89,
   "metadata": {},
   "outputs": [
    {
     "name": "stdout",
     "output_type": "stream",
     "text": [
      "[[ 6.  6.  9.  1. -1.]\n",
      " [ 6.  1.  1. -1.  9.]\n",
      " [ 3.  8.  5.  8.  7.]]\n"
     ]
    }
   ],
   "source": [
    "# Subtract the new array of ones from the other most recent array\n",
    "subtracted_array = random_array_3_5 - ones_array_3_5\n",
    "print(subtracted_array)"
   ]
  },
  {
   "cell_type": "code",
   "execution_count": 90,
   "metadata": {},
   "outputs": [
    {
     "name": "stdout",
     "output_type": "stream",
     "text": [
      "[[ 6.  6.  9.  1. -1.]\n",
      " [ 6.  1.  1. -1.  9.]\n",
      " [ 3.  8.  5.  8.  7.]]\n"
     ]
    }
   ],
   "source": [
    "# Multiply the ones array with the latest array\n",
    "multiplicated_array = subtracted_array  * ones_array_3_5\n",
    "print(multiplicated_array)"
   ]
  },
  {
   "cell_type": "code",
   "execution_count": 91,
   "metadata": {},
   "outputs": [
    {
     "name": "stdout",
     "output_type": "stream",
     "text": [
      "[[36. 36. 81.  1.  1.]\n",
      " [36.  1.  1.  1. 81.]\n",
      " [ 9. 64. 25. 64. 49.]]\n"
     ]
    }
   ],
   "source": [
    "# Take the latest array to the power of 2 using '**'\n",
    "squared_array = multiplicated_array ** 2\n",
    "print(squared_array)"
   ]
  },
  {
   "cell_type": "code",
   "execution_count": 92,
   "metadata": {},
   "outputs": [
    {
     "name": "stdout",
     "output_type": "stream",
     "text": [
      "[[36. 36. 81.  1.  1.]\n",
      " [36.  1.  1.  1. 81.]\n",
      " [ 9. 64. 25. 64. 49.]]\n"
     ]
    }
   ],
   "source": [
    "# Do the same thing with np.square()\n",
    "squared_array2= np.square(multiplicated_array)\n",
    "print(squared_array2)"
   ]
  },
  {
   "cell_type": "code",
   "execution_count": 93,
   "metadata": {},
   "outputs": [
    {
     "name": "stdout",
     "output_type": "stream",
     "text": [
      "Mean of the array (squared_array): 32.4\n"
     ]
    }
   ],
   "source": [
    "# Find the mean of the latest array using np.mean()\n",
    "mean_value = np.mean(squared_array)\n",
    "\n",
    "# Print the mean\n",
    "print(\"Mean of the array (squared_array):\", mean_value)"
   ]
  },
  {
   "cell_type": "code",
   "execution_count": 95,
   "metadata": {},
   "outputs": [
    {
     "name": "stdout",
     "output_type": "stream",
     "text": [
      "Max of the array (squared_array): 81.0\n"
     ]
    }
   ],
   "source": [
    "# Find the maximum of the latest array using np.max()\n",
    "max_value = np.max(squared_array)\n",
    "\n",
    "# Print the max\n",
    "print(\"Max of the array (squared_array):\", max_value)"
   ]
  },
  {
   "cell_type": "code",
   "execution_count": 97,
   "metadata": {},
   "outputs": [
    {
     "name": "stdout",
     "output_type": "stream",
     "text": [
      "Min of the array (squared_array): 1.0\n"
     ]
    }
   ],
   "source": [
    "# Find the minimum of the latest array using np.min()\n",
    "min_value = np.min(squared_array)\n",
    "\n",
    "# Print the min\n",
    "print(\"Min of the array (squared_array):\", min_value)"
   ]
  },
  {
   "cell_type": "code",
   "execution_count": 98,
   "metadata": {},
   "outputs": [
    {
     "name": "stdout",
     "output_type": "stream",
     "text": [
      "Standard Deviation of the array (squared_array): 28.945465966192355\n"
     ]
    }
   ],
   "source": [
    "# Find the standard deviation of the latest array\n",
    "std_deviation = np.std(squared_array)\n",
    "\n",
    "# Print the standard deviation\n",
    "print(\"Standard Deviation of the array (squared_array):\", std_deviation)"
   ]
  },
  {
   "cell_type": "code",
   "execution_count": 99,
   "metadata": {},
   "outputs": [
    {
     "name": "stdout",
     "output_type": "stream",
     "text": [
      "Variance of the array (squared_array): 837.8399999999999\n"
     ]
    }
   ],
   "source": [
    "# Find the variance of the latest array\n",
    "variance = np.var(squared_array)\n",
    "\n",
    "# Print the variance\n",
    "print(\"Variance of the array (squared_array):\", variance)"
   ]
  },
  {
   "cell_type": "code",
   "execution_count": 100,
   "metadata": {},
   "outputs": [
    {
     "name": "stdout",
     "output_type": "stream",
     "text": [
      "Reshaped Array (3, 5, 1):\n",
      "[[[36.]\n",
      "  [36.]\n",
      "  [81.]\n",
      "  [ 1.]\n",
      "  [ 1.]]\n",
      "\n",
      " [[36.]\n",
      "  [ 1.]\n",
      "  [ 1.]\n",
      "  [ 1.]\n",
      "  [81.]]\n",
      "\n",
      " [[ 9.]\n",
      "  [64.]\n",
      "  [25.]\n",
      "  [64.]\n",
      "  [49.]]]\n"
     ]
    }
   ],
   "source": [
    "# Reshape the latest array to (3, 5, 1)\n",
    "reshaped_array = squared_array.reshape(3, 5, 1)\n",
    "\n",
    "# Print the reshaped array\n",
    "print(\"Reshaped Array (3, 5, 1):\")\n",
    "print(reshaped_array)"
   ]
  },
  {
   "cell_type": "code",
   "execution_count": 101,
   "metadata": {},
   "outputs": [
    {
     "name": "stdout",
     "output_type": "stream",
     "text": [
      "Transposed Array:\n",
      "[[[36. 36.  9.]\n",
      "  [36.  1. 64.]\n",
      "  [81.  1. 25.]\n",
      "  [ 1.  1. 64.]\n",
      "  [ 1. 81. 49.]]]\n"
     ]
    }
   ],
   "source": [
    "# Transpose the latest array\n",
    "transposed_array = reshaped_array.T\n",
    "\n",
    "# Print the transposed array\n",
    "print(\"Transposed Array:\")\n",
    "print(transposed_array)"
   ]
  },
  {
   "cell_type": "markdown",
   "metadata": {},
   "source": [
    "What does the transpose do?\n",
    "\n",
    "A: operation that switches the rows and columns of the original matrix"
   ]
  },
  {
   "cell_type": "code",
   "execution_count": 102,
   "metadata": {},
   "outputs": [
    {
     "name": "stdout",
     "output_type": "stream",
     "text": [
      "[[6 8 7]\n",
      " [1 0 6]\n",
      " [6 7 4]]\n",
      "[[ 2  7]\n",
      " [ 5 10]\n",
      " [ 2  0]]\n"
     ]
    }
   ],
   "source": [
    "# Create two arrays of random integers between 0 to 10\n",
    "# one of size (3, 3) the other of size (3, 2)\n",
    "random_array_3_3 = np.random.randint(0, 11, size=(3, 3))\n",
    "\n",
    "random_array_3_2 = np.random.randint(0, 11, size=(3, 2))\n",
    "\n",
    "print(random_array_3_3)\n",
    "\n",
    "print(random_array_3_2)"
   ]
  },
  {
   "cell_type": "code",
   "execution_count": 103,
   "metadata": {},
   "outputs": [
    {
     "name": "stdout",
     "output_type": "stream",
     "text": [
      "Dot Product Result:\n",
      "[[ 66 122]\n",
      " [ 14   7]\n",
      " [ 55 112]]\n"
     ]
    }
   ],
   "source": [
    "# Perform a dot product on the two newest arrays you created\n",
    "\n",
    "dot_product_result = np.dot(random_array_3_3, random_array_3_2)\n",
    "\n",
    "# Print the dot product result\n",
    "print(\"Dot Product Result:\")\n",
    "print(dot_product_result)"
   ]
  },
  {
   "cell_type": "code",
   "execution_count": 104,
   "metadata": {},
   "outputs": [
    {
     "name": "stdout",
     "output_type": "stream",
     "text": [
      "[[ 2  4  2]\n",
      " [ 0  4  9]\n",
      " [ 6  6 10]\n",
      " [ 8  9  9]]\n",
      "[[ 2  6  0]\n",
      " [ 3  3  4]\n",
      " [ 6  6 10]\n",
      " [ 3  6 10]]\n"
     ]
    }
   ],
   "source": [
    "# Create two arrays of random integers between 0 to 10\n",
    "# both of size (4, 3)\n",
    "random_array_4_3 = np.random.randint(0, 11, size=(4, 3))\n",
    "\n",
    "random_array_4_3_second = np.random.randint(0, 11, size=(4, 3))\n",
    "\n",
    "print(random_array_4_3)\n",
    "\n",
    "print(random_array_4_3_second)"
   ]
  },
  {
   "cell_type": "code",
   "execution_count": 106,
   "metadata": {},
   "outputs": [
    {
     "ename": "ValueError",
     "evalue": "shapes (4,3) and (4,3) not aligned: 3 (dim 1) != 4 (dim 0)",
     "output_type": "error",
     "traceback": [
      "\u001b[1;31m---------------------------------------------------------------------------\u001b[0m",
      "\u001b[1;31mValueError\u001b[0m                                Traceback (most recent call last)",
      "\u001b[1;32m~\\AppData\\Local\\Temp\\ipykernel_15804\\3429489387.py\u001b[0m in \u001b[0;36m<module>\u001b[1;34m\u001b[0m\n\u001b[0;32m      1\u001b[0m \u001b[1;31m# Perform a dot product on the two newest arrays you created\u001b[0m\u001b[1;33m\u001b[0m\u001b[1;33m\u001b[0m\u001b[1;33m\u001b[0m\u001b[0m\n\u001b[0;32m      2\u001b[0m \u001b[1;33m\u001b[0m\u001b[0m\n\u001b[1;32m----> 3\u001b[1;33m \u001b[0mdot_product_result2\u001b[0m \u001b[1;33m=\u001b[0m \u001b[0mnp\u001b[0m\u001b[1;33m.\u001b[0m\u001b[0mdot\u001b[0m\u001b[1;33m(\u001b[0m\u001b[0mrandom_array_4_3\u001b[0m\u001b[1;33m,\u001b[0m \u001b[0mrandom_array_4_3_second\u001b[0m\u001b[1;33m)\u001b[0m\u001b[1;33m\u001b[0m\u001b[1;33m\u001b[0m\u001b[0m\n\u001b[0m\u001b[0;32m      4\u001b[0m \u001b[1;33m\u001b[0m\u001b[0m\n\u001b[0;32m      5\u001b[0m \u001b[1;31m# Print the dot product result\u001b[0m\u001b[1;33m\u001b[0m\u001b[1;33m\u001b[0m\u001b[1;33m\u001b[0m\u001b[0m\n",
      "\u001b[1;32m<__array_function__ internals>\u001b[0m in \u001b[0;36mdot\u001b[1;34m(*args, **kwargs)\u001b[0m\n",
      "\u001b[1;31mValueError\u001b[0m: shapes (4,3) and (4,3) not aligned: 3 (dim 1) != 4 (dim 0)"
     ]
    }
   ],
   "source": [
    "# Perform a dot product on the two newest arrays you created\n",
    "\n",
    "dot_product_result2 = np.dot(random_array_4_3, random_array_4_3_second)\n",
    "\n",
    "# Print the dot product result\n",
    "print(\"Dot Product Result:\")\n",
    "print(dot_product_result2)"
   ]
  },
  {
   "cell_type": "markdown",
   "metadata": {},
   "source": [
    "It doesn't work. How would you fix it?"
   ]
  },
  {
   "cell_type": "code",
   "execution_count": 111,
   "metadata": {},
   "outputs": [
    {
     "name": "stdout",
     "output_type": "stream",
     "text": [
      "Dot Product Result:\n",
      "[[ 64  96 140]\n",
      " [ 83 126 166]\n",
      " [118 153 226]]\n"
     ]
    }
   ],
   "source": [
    "# Take the latest two arrays, perform a transpose on one of them and then perform \n",
    "# a dot product on them both\n",
    "transposed_random_array_4_3 = random_array_4_3.T\n",
    "dot_product_result2 = np.dot(transposed_random_array_4_3, random_array_4_3_second)\n",
    "\n",
    "# Print the dot product result\n",
    "print(\"Dot Product Result:\")\n",
    "print(dot_product_result2)"
   ]
  },
  {
   "cell_type": "markdown",
   "metadata": {},
   "source": [
    "Notice how performing a transpose allows the dot product to happen.\n",
    "\n",
    "Why is this?\n",
    "\n",
    "Checking out the documentation on [`np.dot()`](https://docs.scipy.org/doc/numpy/reference/generated/numpy.dot.html) may help, as well as reading [Math is Fun's guide on the dot product](https://www.mathsisfun.com/algebra/vectors-dot-product.html).\n",
    "\n",
    "Let's now compare arrays."
   ]
  },
  {
   "cell_type": "code",
   "execution_count": 114,
   "metadata": {},
   "outputs": [
    {
     "name": "stdout",
     "output_type": "stream",
     "text": [
      "[[ 3  8  2]\n",
      " [ 6  5  7]\n",
      " [10  8  4]]\n",
      "[[ 0  2  9]\n",
      " [ 7 10  5]\n",
      " [ 7  8  3]]\n"
     ]
    }
   ],
   "source": [
    "# Create two arrays of random integers between 0 & 10 of the same shape\n",
    "# and save them to variables\n",
    "array1 = np.random.randint(0, 11, size=(3, 3))\n",
    "array2 = np.random.randint(0, 11, size=(3, 3))\n",
    "print(array1)\n",
    "print(array2)"
   ]
  },
  {
   "cell_type": "code",
   "execution_count": 115,
   "metadata": {},
   "outputs": [
    {
     "name": "stdout",
     "output_type": "stream",
     "text": [
      "Comparison Result (array1 > array2):\n",
      "[[ True  True False]\n",
      " [False False  True]\n",
      " [ True False  True]]\n"
     ]
    }
   ],
   "source": [
    "# Compare the two arrays with '>'\n",
    "comparison_result = array1 > array2\n",
    "\n",
    "# Print the result of the comparison\n",
    "print(\"Comparison Result (array1 > array2):\")\n",
    "print(comparison_result)"
   ]
  },
  {
   "cell_type": "markdown",
   "metadata": {},
   "source": [
    "What happens when you compare the arrays with `>`?\n",
    "\n",
    "A:check if one array's elements are greater than the corresponding elements in the other array, "
   ]
  },
  {
   "cell_type": "code",
   "execution_count": 116,
   "metadata": {},
   "outputs": [
    {
     "name": "stdout",
     "output_type": "stream",
     "text": [
      "Comparison Result (array1 >= array2):\n",
      "[[ True  True False]\n",
      " [False False  True]\n",
      " [ True  True  True]]\n"
     ]
    }
   ],
   "source": [
    "# Compare the two arrays with '>='\n",
    "comparison_result = array1 >= array2\n",
    "\n",
    "# Print the result of the comparison\n",
    "print(\"Comparison Result (array1 >= array2):\")\n",
    "print(comparison_result)"
   ]
  },
  {
   "cell_type": "code",
   "execution_count": 117,
   "metadata": {},
   "outputs": [
    {
     "name": "stdout",
     "output_type": "stream",
     "text": [
      "Elements of the first array greater than 7:\n",
      "[[False  True False]\n",
      " [False False False]\n",
      " [ True  True False]]\n"
     ]
    }
   ],
   "source": [
    "# Find which elements of the first array are greater than 7\n",
    "elements_greater_than_7 = array1 > 7\n",
    "\n",
    "# Print the result\n",
    "print(\"Elements of the first array greater than 7:\")\n",
    "print(elements_greater_than_7)"
   ]
  },
  {
   "cell_type": "code",
   "execution_count": 118,
   "metadata": {},
   "outputs": [
    {
     "name": "stdout",
     "output_type": "stream",
     "text": [
      "Equal Elements (array1 == array2):\n",
      "[[False False False]\n",
      " [False False False]\n",
      " [False  True False]]\n"
     ]
    }
   ],
   "source": [
    "# Which parts of each array are equal? (try using '==')\n",
    "equal_elements = array1 == array2\n",
    "\n",
    "# Print the result\n",
    "print(\"Equal Elements (array1 == array2):\")\n",
    "print(equal_elements)"
   ]
  },
  {
   "cell_type": "code",
   "execution_count": 119,
   "metadata": {},
   "outputs": [
    {
     "name": "stdout",
     "output_type": "stream",
     "text": [
      "Sorted Array in Ascending Order:\n",
      "[[ 2  3  8]\n",
      " [ 5  6  7]\n",
      " [ 4  8 10]]\n"
     ]
    }
   ],
   "source": [
    "# Sort one of the arrays you just created in ascending order\n",
    "sorted_array = np.sort(array1)\n",
    "\n",
    "# Print the sorted array\n",
    "print(\"Sorted Array in Ascending Order:\")\n",
    "print(sorted_array)"
   ]
  },
  {
   "cell_type": "code",
   "execution_count": 120,
   "metadata": {},
   "outputs": [
    {
     "name": "stdout",
     "output_type": "stream",
     "text": [
      "Sorted Indices:\n",
      "[2 0 8 4 3 5 1 7 6]\n"
     ]
    }
   ],
   "source": [
    "# Sort the indexes of one of the arrays you just created\n",
    "sorted_indices = np.argsort(array1, axis=None)\n",
    "\n",
    "# Print the sorted indices\n",
    "print(\"Sorted Indices:\")\n",
    "print(sorted_indices)"
   ]
  },
  {
   "cell_type": "code",
   "execution_count": 122,
   "metadata": {},
   "outputs": [
    {
     "name": "stdout",
     "output_type": "stream",
     "text": [
      "Index with Maximum Value: 6\n"
     ]
    }
   ],
   "source": [
    "# Find the index with the maximum value in one of the arrays you've created\n",
    "max_index = np.argmax(array1)\n",
    "# Print the maximum index\n",
    "print(\"Index with Maximum Value:\", max_index)\n"
   ]
  },
  {
   "cell_type": "code",
   "execution_count": 123,
   "metadata": {},
   "outputs": [
    {
     "name": "stdout",
     "output_type": "stream",
     "text": [
      "Index with Minimum Value: 2\n"
     ]
    }
   ],
   "source": [
    "# Find the index with the minimum value in one of the arrays you've created\n",
    "min_index = np.argmin(array1)\n",
    "# Print the minimm index\n",
    "print(\"Index with Minimum Value:\", min_index)\n"
   ]
  },
  {
   "cell_type": "code",
   "execution_count": 125,
   "metadata": {},
   "outputs": [
    {
     "name": "stdout",
     "output_type": "stream",
     "text": [
      "Indices with Maximum Values along Axis 1:\n",
      "[1 2 0]\n"
     ]
    }
   ],
   "source": [
    "# Find the indexes with the maximum values down the 1st axis (axis=1)\n",
    "# of one of the arrays you created\n",
    "max_indices_axis1 = np.argmax(array1, axis=1)\n",
    "\n",
    "# Print the maximum indices along the first axis\n",
    "print(\"Indices with Maximum Values along Axis 1:\")\n",
    "print(max_indices_axis1)"
   ]
  },
  {
   "cell_type": "code",
   "execution_count": 126,
   "metadata": {},
   "outputs": [
    {
     "name": "stdout",
     "output_type": "stream",
     "text": [
      "Indices with Minimum Values along Axis 1:\n",
      "[0 1 0]\n"
     ]
    }
   ],
   "source": [
    "# Find the indexes with the minimum values across the 0th axis (axis=0)\n",
    "# of one of the arrays you created\n",
    "min_indices_axis0= np.argmin(array1, axis=0)\n",
    "\n",
    "# Print the maximum indices along the first axis\n",
    "print(\"Indices with Minimum Values along Axis 1:\")\n",
    "print(min_indices_axis0)"
   ]
  },
  {
   "cell_type": "code",
   "execution_count": 127,
   "metadata": {},
   "outputs": [
    {
     "name": "stdout",
     "output_type": "stream",
     "text": [
      "Array of Normally Distributed Random Numbers:\n",
      "[[ 0.25755039 -0.07444592 -1.91877122]\n",
      " [-0.02651388  0.06023021  2.46324211]\n",
      " [-0.19236096  0.30154734 -0.03471177]]\n"
     ]
    }
   ],
   "source": [
    "# Create an array of normally distributed random numbers\n",
    "mean = 0  # Mean of the normal distribution\n",
    "std_dev = 1  # Standard deviation of the normal distribution\n",
    "size = (3, 3)  # Shape of the array\n",
    "\n",
    "# Generate the array of normally distributed random numbers\n",
    "normal_array = np.random.normal(mean, std_dev, size)\n",
    "\n",
    "# Print the array\n",
    "print(\"Array of Normally Distributed Random Numbers:\")\n",
    "print(normal_array)"
   ]
  },
  {
   "cell_type": "code",
   "execution_count": 128,
   "metadata": {},
   "outputs": [
    {
     "name": "stdout",
     "output_type": "stream",
     "text": [
      "Evenly Spaced Array between 1 and 100:\n",
      "[  1.  12.  23.  34.  45.  56.  67.  78.  89. 100.]\n"
     ]
    }
   ],
   "source": [
    "# Create an array with 10 evenly spaced numbers between 1 and 100\n",
    "evenly_spaced_array = np.linspace(1, 100, 10)\n",
    "\n",
    "# Print the array\n",
    "print(\"Evenly Spaced Array between 1 and 100:\")\n",
    "print(evenly_spaced_array)"
   ]
  },
  {
   "cell_type": "markdown",
   "metadata": {},
   "source": [
    "## Extensions\n",
    "\n",
    "For more exercises, check out the [NumPy quickstart tutorial](https://numpy.org/doc/stable/user/quickstart.html). A good practice would be to read through it and for the parts you find interesting, add them into the end of this notebook.\n",
    "\n",
    "Pay particular attention to the section on broadcasting. And most importantly, get hands-on with the code as much as possible. If in dobut, run the code, see what it does.\n",
    "\n",
    "The next place you could go is the [Stack Overflow page for the top questions and answers for NumPy](https://stackoverflow.com/questions/tagged/numpy?sort=MostVotes&edited=true). Often, you'll find some of the most common and useful NumPy functions here. Don't forget to play around with the filters! You'll likely find something helpful here.\n",
    "\n",
    "Finally, as always, remember, the best way to learn something new is to try it. And try it relentlessly. If you get interested in some kind of NumPy function, asking yourself, \"I wonder if NumPy could do that?\", go and find out."
   ]
  }
 ],
 "metadata": {
  "kernelspec": {
   "display_name": "Python 3",
   "language": "python",
   "name": "python3"
  },
  "language_info": {
   "codemirror_mode": {
    "name": "ipython",
    "version": 3
   },
   "file_extension": ".py",
   "mimetype": "text/x-python",
   "name": "python",
   "nbconvert_exporter": "python",
   "pygments_lexer": "ipython3",
   "version": "3.7.9"
  }
 },
 "nbformat": 4,
 "nbformat_minor": 2
}
